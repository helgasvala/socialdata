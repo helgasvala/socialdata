{
 "cells": [
  {
   "cell_type": "markdown",
   "metadata": {
    "collapsed": true
   },
   "source": [
    "# This loads the SF data and sorts it and dumps it to an csv file"
   ]
  },
  {
   "cell_type": "code",
   "execution_count": null,
   "metadata": {
    "collapsed": true
   },
   "outputs": [],
   "source": []
  },
  {
   "cell_type": "code",
   "execution_count": 46,
   "metadata": {
    "collapsed": true
   },
   "outputs": [],
   "source": [
    "import pandas as pd\n",
    "import os"
   ]
  },
  {
   "cell_type": "code",
   "execution_count": null,
   "metadata": {
    "collapsed": false
   },
   "outputs": [],
   "source": []
  },
  {
   "cell_type": "code",
   "execution_count": 51,
   "metadata": {
    "collapsed": false
   },
   "outputs": [],
   "source": [
    "crime_data = pd.read_csv(\"SFPD_Incidents_-_from_1_January_2003.csv\")"
   ]
  },
  {
   "cell_type": "code",
   "execution_count": 53,
   "metadata": {
    "collapsed": false
   },
   "outputs": [
    {
     "data": {
      "text/html": [
       "<div>\n",
       "<table border=\"1\" class=\"dataframe\">\n",
       "  <thead>\n",
       "    <tr style=\"text-align: right;\">\n",
       "      <th></th>\n",
       "      <th>IncidntNum</th>\n",
       "      <th>Category</th>\n",
       "      <th>Descript</th>\n",
       "      <th>DayOfWeek</th>\n",
       "      <th>Date</th>\n",
       "      <th>Time</th>\n",
       "      <th>PdDistrict</th>\n",
       "      <th>Resolution</th>\n",
       "      <th>Address</th>\n",
       "      <th>X</th>\n",
       "      <th>Y</th>\n",
       "      <th>Location</th>\n",
       "      <th>PdId</th>\n",
       "      <th>Year</th>\n",
       "    </tr>\n",
       "  </thead>\n",
       "  <tbody>\n",
       "    <tr>\n",
       "      <th>0</th>\n",
       "      <td>150060275</td>\n",
       "      <td>NON-CRIMINAL</td>\n",
       "      <td>LOST PROPERTY</td>\n",
       "      <td>Monday</td>\n",
       "      <td>01/19/2015</td>\n",
       "      <td>14:00</td>\n",
       "      <td>MISSION</td>\n",
       "      <td>NONE</td>\n",
       "      <td>18TH ST / VALENCIA ST</td>\n",
       "      <td>-122.421582</td>\n",
       "      <td>37.761701</td>\n",
       "      <td>(37.7617007179518, -122.42158168137)</td>\n",
       "      <td>15006027571000</td>\n",
       "      <td>2015</td>\n",
       "    </tr>\n",
       "    <tr>\n",
       "      <th>1</th>\n",
       "      <td>150098210</td>\n",
       "      <td>ROBBERY</td>\n",
       "      <td>ROBBERY, BODILY FORCE</td>\n",
       "      <td>Sunday</td>\n",
       "      <td>02/01/2015</td>\n",
       "      <td>15:45</td>\n",
       "      <td>TENDERLOIN</td>\n",
       "      <td>NONE</td>\n",
       "      <td>300 Block of LEAVENWORTH ST</td>\n",
       "      <td>-122.414406</td>\n",
       "      <td>37.784191</td>\n",
       "      <td>(37.7841907151119, -122.414406029855)</td>\n",
       "      <td>15009821003074</td>\n",
       "      <td>2015</td>\n",
       "    </tr>\n",
       "    <tr>\n",
       "      <th>2</th>\n",
       "      <td>150098210</td>\n",
       "      <td>ASSAULT</td>\n",
       "      <td>AGGRAVATED ASSAULT WITH BODILY FORCE</td>\n",
       "      <td>Sunday</td>\n",
       "      <td>02/01/2015</td>\n",
       "      <td>15:45</td>\n",
       "      <td>TENDERLOIN</td>\n",
       "      <td>NONE</td>\n",
       "      <td>300 Block of LEAVENWORTH ST</td>\n",
       "      <td>-122.414406</td>\n",
       "      <td>37.784191</td>\n",
       "      <td>(37.7841907151119, -122.414406029855)</td>\n",
       "      <td>15009821004014</td>\n",
       "      <td>2015</td>\n",
       "    </tr>\n",
       "    <tr>\n",
       "      <th>3</th>\n",
       "      <td>150098210</td>\n",
       "      <td>SECONDARY CODES</td>\n",
       "      <td>DOMESTIC VIOLENCE</td>\n",
       "      <td>Sunday</td>\n",
       "      <td>02/01/2015</td>\n",
       "      <td>15:45</td>\n",
       "      <td>TENDERLOIN</td>\n",
       "      <td>NONE</td>\n",
       "      <td>300 Block of LEAVENWORTH ST</td>\n",
       "      <td>-122.414406</td>\n",
       "      <td>37.784191</td>\n",
       "      <td>(37.7841907151119, -122.414406029855)</td>\n",
       "      <td>15009821015200</td>\n",
       "      <td>2015</td>\n",
       "    </tr>\n",
       "    <tr>\n",
       "      <th>4</th>\n",
       "      <td>150098226</td>\n",
       "      <td>VANDALISM</td>\n",
       "      <td>MALICIOUS MISCHIEF, VANDALISM OF VEHICLES</td>\n",
       "      <td>Tuesday</td>\n",
       "      <td>01/27/2015</td>\n",
       "      <td>19:00</td>\n",
       "      <td>NORTHERN</td>\n",
       "      <td>NONE</td>\n",
       "      <td>LOMBARD ST / LAGUNA ST</td>\n",
       "      <td>-122.431119</td>\n",
       "      <td>37.800469</td>\n",
       "      <td>(37.8004687042875, -122.431118543788)</td>\n",
       "      <td>15009822628160</td>\n",
       "      <td>2015</td>\n",
       "    </tr>\n",
       "  </tbody>\n",
       "</table>\n",
       "</div>"
      ],
      "text/plain": [
       "   IncidntNum         Category                                   Descript  \\\n",
       "0   150060275     NON-CRIMINAL                              LOST PROPERTY   \n",
       "1   150098210          ROBBERY                      ROBBERY, BODILY FORCE   \n",
       "2   150098210          ASSAULT       AGGRAVATED ASSAULT WITH BODILY FORCE   \n",
       "3   150098210  SECONDARY CODES                          DOMESTIC VIOLENCE   \n",
       "4   150098226        VANDALISM  MALICIOUS MISCHIEF, VANDALISM OF VEHICLES   \n",
       "\n",
       "  DayOfWeek        Date   Time  PdDistrict Resolution  \\\n",
       "0    Monday  01/19/2015  14:00     MISSION       NONE   \n",
       "1    Sunday  02/01/2015  15:45  TENDERLOIN       NONE   \n",
       "2    Sunday  02/01/2015  15:45  TENDERLOIN       NONE   \n",
       "3    Sunday  02/01/2015  15:45  TENDERLOIN       NONE   \n",
       "4   Tuesday  01/27/2015  19:00    NORTHERN       NONE   \n",
       "\n",
       "                       Address           X          Y  \\\n",
       "0        18TH ST / VALENCIA ST -122.421582  37.761701   \n",
       "1  300 Block of LEAVENWORTH ST -122.414406  37.784191   \n",
       "2  300 Block of LEAVENWORTH ST -122.414406  37.784191   \n",
       "3  300 Block of LEAVENWORTH ST -122.414406  37.784191   \n",
       "4       LOMBARD ST / LAGUNA ST -122.431119  37.800469   \n",
       "\n",
       "                                Location            PdId  Year  \n",
       "0   (37.7617007179518, -122.42158168137)  15006027571000  2015  \n",
       "1  (37.7841907151119, -122.414406029855)  15009821003074  2015  \n",
       "2  (37.7841907151119, -122.414406029855)  15009821004014  2015  \n",
       "3  (37.7841907151119, -122.414406029855)  15009821015200  2015  \n",
       "4  (37.8004687042875, -122.431118543788)  15009822628160  2015  "
      ]
     },
     "execution_count": 53,
     "metadata": {},
     "output_type": "execute_result"
    }
   ],
   "source": [
    "#Now we will sort the Data by year\n",
    "def getYear(date):\n",
    "    return int(date.split('/')[2])\n",
    "\n",
    "# Let's add a column by its year\n",
    "crime_data ['Year'] = crime_data ['Date'].apply(lambda x: getYear(x))\n",
    "crime_data.head()\n"
   ]
  },
  {
   "cell_type": "code",
   "execution_count": 68,
   "metadata": {
    "collapsed": false
   },
   "outputs": [
    {
     "data": {
      "text/html": [
       "<div>\n",
       "<table border=\"1\" class=\"dataframe\">\n",
       "  <thead>\n",
       "    <tr style=\"text-align: right;\">\n",
       "      <th></th>\n",
       "      <th>index</th>\n",
       "      <th>IncidntNum</th>\n",
       "      <th>Category</th>\n",
       "      <th>Descript</th>\n",
       "      <th>DayOfWeek</th>\n",
       "      <th>Date</th>\n",
       "      <th>Time</th>\n",
       "      <th>PdDistrict</th>\n",
       "      <th>Resolution</th>\n",
       "      <th>Address</th>\n",
       "      <th>X</th>\n",
       "      <th>Y</th>\n",
       "      <th>Location</th>\n",
       "      <th>PdId</th>\n",
       "      <th>Year</th>\n",
       "    </tr>\n",
       "  </thead>\n",
       "  <tbody>\n",
       "    <tr>\n",
       "      <th>0</th>\n",
       "      <td>226374</td>\n",
       "      <td>31253323</td>\n",
       "      <td>TRESPASS</td>\n",
       "      <td>TRESPASSING</td>\n",
       "      <td>Friday</td>\n",
       "      <td>10/24/2003</td>\n",
       "      <td>20:15</td>\n",
       "      <td>SOUTHERN</td>\n",
       "      <td>NONE</td>\n",
       "      <td>800 Block of MARKET ST</td>\n",
       "      <td>-122.406691</td>\n",
       "      <td>37.785207</td>\n",
       "      <td>(37.7852071918419, -122.406690592261)</td>\n",
       "      <td>3125332327195</td>\n",
       "      <td>2003</td>\n",
       "    </tr>\n",
       "    <tr>\n",
       "      <th>1</th>\n",
       "      <td>228090</td>\n",
       "      <td>31127819</td>\n",
       "      <td>ASSAULT</td>\n",
       "      <td>THREATS AGAINST LIFE</td>\n",
       "      <td>Wednesday</td>\n",
       "      <td>09/24/2003</td>\n",
       "      <td>12:15</td>\n",
       "      <td>PARK</td>\n",
       "      <td>NONE</td>\n",
       "      <td>1400 Block of PAGE ST</td>\n",
       "      <td>-122.444713</td>\n",
       "      <td>37.771302</td>\n",
       "      <td>(37.771302186583, -122.444712962011)</td>\n",
       "      <td>3112781919057</td>\n",
       "      <td>2003</td>\n",
       "    </tr>\n",
       "    <tr>\n",
       "      <th>2</th>\n",
       "      <td>230151</td>\n",
       "      <td>30239564</td>\n",
       "      <td>ASSAULT</td>\n",
       "      <td>BATTERY</td>\n",
       "      <td>Wednesday</td>\n",
       "      <td>02/26/2003</td>\n",
       "      <td>16:50</td>\n",
       "      <td>SOUTHERN</td>\n",
       "      <td>NONE</td>\n",
       "      <td>1400 Block of MARKET ST</td>\n",
       "      <td>-122.418481</td>\n",
       "      <td>37.775898</td>\n",
       "      <td>(37.775898446204, -122.418480564808)</td>\n",
       "      <td>3023956404134</td>\n",
       "      <td>2003</td>\n",
       "    </tr>\n",
       "    <tr>\n",
       "      <th>3</th>\n",
       "      <td>231456</td>\n",
       "      <td>30348096</td>\n",
       "      <td>ASSAULT</td>\n",
       "      <td>BATTERY</td>\n",
       "      <td>Monday</td>\n",
       "      <td>03/24/2003</td>\n",
       "      <td>20:08</td>\n",
       "      <td>BAYVIEW</td>\n",
       "      <td>ARREST, BOOKED</td>\n",
       "      <td>0 Block of APOLLO ST</td>\n",
       "      <td>-122.397783</td>\n",
       "      <td>37.732115</td>\n",
       "      <td>(37.7321151302341, -122.397782740798)</td>\n",
       "      <td>3034809604134</td>\n",
       "      <td>2003</td>\n",
       "    </tr>\n",
       "    <tr>\n",
       "      <th>4</th>\n",
       "      <td>233967</td>\n",
       "      <td>31200506</td>\n",
       "      <td>ASSAULT</td>\n",
       "      <td>BATTERY</td>\n",
       "      <td>Sunday</td>\n",
       "      <td>10/12/2003</td>\n",
       "      <td>01:45</td>\n",
       "      <td>CENTRAL</td>\n",
       "      <td>ARREST, BOOKED</td>\n",
       "      <td>900 Block of MASON ST</td>\n",
       "      <td>-122.410846</td>\n",
       "      <td>37.792316</td>\n",
       "      <td>(37.7923158747647, -122.410845624227)</td>\n",
       "      <td>3120050604134</td>\n",
       "      <td>2003</td>\n",
       "    </tr>\n",
       "  </tbody>\n",
       "</table>\n",
       "</div>"
      ],
      "text/plain": [
       "    index  IncidntNum  Category              Descript  DayOfWeek        Date  \\\n",
       "0  226374    31253323  TRESPASS           TRESPASSING     Friday  10/24/2003   \n",
       "1  228090    31127819   ASSAULT  THREATS AGAINST LIFE  Wednesday  09/24/2003   \n",
       "2  230151    30239564   ASSAULT               BATTERY  Wednesday  02/26/2003   \n",
       "3  231456    30348096   ASSAULT               BATTERY     Monday  03/24/2003   \n",
       "4  233967    31200506   ASSAULT               BATTERY     Sunday  10/12/2003   \n",
       "\n",
       "    Time PdDistrict      Resolution                  Address           X  \\\n",
       "0  20:15   SOUTHERN            NONE   800 Block of MARKET ST -122.406691   \n",
       "1  12:15       PARK            NONE    1400 Block of PAGE ST -122.444713   \n",
       "2  16:50   SOUTHERN            NONE  1400 Block of MARKET ST -122.418481   \n",
       "3  20:08    BAYVIEW  ARREST, BOOKED     0 Block of APOLLO ST -122.397783   \n",
       "4  01:45    CENTRAL  ARREST, BOOKED    900 Block of MASON ST -122.410846   \n",
       "\n",
       "           Y                               Location           PdId  Year  \n",
       "0  37.785207  (37.7852071918419, -122.406690592261)  3125332327195  2003  \n",
       "1  37.771302   (37.771302186583, -122.444712962011)  3112781919057  2003  \n",
       "2  37.775898   (37.775898446204, -122.418480564808)  3023956404134  2003  \n",
       "3  37.732115  (37.7321151302341, -122.397782740798)  3034809604134  2003  \n",
       "4  37.792316  (37.7923158747647, -122.410845624227)  3120050604134  2003  "
      ]
     },
     "execution_count": 68,
     "metadata": {},
     "output_type": "execute_result"
    }
   ],
   "source": [
    "\n",
    "crime_data03=crime_data[crime_data['Year']==2003].reset_index()\n",
    "crime_data15=crime_data[crime_data['Year']==2015].reset_index()\n",
    "crime_data03.head()"
   ]
  },
  {
   "cell_type": "code",
   "execution_count": 70,
   "metadata": {
    "collapsed": false
   },
   "outputs": [
    {
     "data": {
      "text/html": [
       "<div>\n",
       "<table border=\"1\" class=\"dataframe\">\n",
       "  <thead>\n",
       "    <tr style=\"text-align: right;\">\n",
       "      <th></th>\n",
       "      <th>Category</th>\n",
       "      <th>total03</th>\n",
       "      <th>prost03</th>\n",
       "      <th>vTheft03</th>\n",
       "      <th>total15</th>\n",
       "      <th>prost15</th>\n",
       "      <th>vTheft15</th>\n",
       "    </tr>\n",
       "    <tr>\n",
       "      <th>PdDistrict</th>\n",
       "      <th></th>\n",
       "      <th></th>\n",
       "      <th></th>\n",
       "      <th></th>\n",
       "      <th></th>\n",
       "      <th></th>\n",
       "      <th></th>\n",
       "    </tr>\n",
       "  </thead>\n",
       "  <tbody>\n",
       "    <tr>\n",
       "      <th>BAYVIEW</th>\n",
       "      <td>14711</td>\n",
       "      <td>15739</td>\n",
       "      <td>11</td>\n",
       "      <td>2121</td>\n",
       "      <td>14711</td>\n",
       "      <td>7</td>\n",
       "      <td>985</td>\n",
       "    </tr>\n",
       "    <tr>\n",
       "      <th>CENTRAL</th>\n",
       "      <td>18565</td>\n",
       "      <td>13622</td>\n",
       "      <td>70</td>\n",
       "      <td>1193</td>\n",
       "      <td>18565</td>\n",
       "      <td>44</td>\n",
       "      <td>552</td>\n",
       "    </tr>\n",
       "    <tr>\n",
       "      <th>INGLESIDE</th>\n",
       "      <td>13414</td>\n",
       "      <td>14008</td>\n",
       "      <td>5</td>\n",
       "      <td>2319</td>\n",
       "      <td>13414</td>\n",
       "      <td>5</td>\n",
       "      <td>1368</td>\n",
       "    </tr>\n",
       "    <tr>\n",
       "      <th>MISSION</th>\n",
       "      <td>18542</td>\n",
       "      <td>21163</td>\n",
       "      <td>713</td>\n",
       "      <td>2063</td>\n",
       "      <td>18542</td>\n",
       "      <td>66</td>\n",
       "      <td>1198</td>\n",
       "    </tr>\n",
       "    <tr>\n",
       "      <th>NORTHERN</th>\n",
       "      <td>20092</td>\n",
       "      <td>18975</td>\n",
       "      <td>581</td>\n",
       "      <td>1879</td>\n",
       "      <td>20092</td>\n",
       "      <td>42</td>\n",
       "      <td>945</td>\n",
       "    </tr>\n",
       "  </tbody>\n",
       "</table>\n",
       "</div>"
      ],
      "text/plain": [
       "            Category  total03  prost03  vTheft03  total15  prost15  vTheft15\n",
       "PdDistrict                                                                  \n",
       "BAYVIEW        14711    15739       11      2121    14711        7       985\n",
       "CENTRAL        18565    13622       70      1193    18565       44       552\n",
       "INGLESIDE      13414    14008        5      2319    13414        5      1368\n",
       "MISSION        18542    21163      713      2063    18542       66      1198\n",
       "NORTHERN       20092    18975      581      1879    20092       42       945"
      ]
     },
     "execution_count": 70,
     "metadata": {},
     "output_type": "execute_result"
    }
   ],
   "source": [
    "Total = crime_data15.filter(items=['PdDistrict','Category']).groupby(['PdDistrict']).count()\n",
    "Total['total03']=crime_data03.filter(items=['PdDistrict','Category']).groupby(['PdDistrict']).count()\n",
    "Total['prost03']=crime_data03[(crime_data03['Category'] == 'PROSTITUTION')].filter(items=['PdDistrict','Category']).groupby(['PdDistrict']).count()\n",
    "Total['vTheft03']=crime_data03[(crime_data03['Category'] == 'VEHICLE THEFT')].filter(items=['PdDistrict','Category']).groupby(['PdDistrict']).count()\n",
    "\n",
    "Total['total15']=crime_data15.filter(items=['PdDistrict','Category']).groupby(['PdDistrict']).count()\n",
    "Total['prost15']=crime_data15[(crime_data15['Category'] == 'PROSTITUTION')].filter(items=['PdDistrict','Category']).groupby(['PdDistrict']).count()\n",
    "Total['vTheft15']=crime_data15[(crime_data15['Category'] == 'VEHICLE THEFT')].filter(items=['PdDistrict','Category']).groupby(['PdDistrict']).count()\n",
    "\n",
    "\n",
    "\n",
    "#crime_focus16 = crime_data16.groupby(['PdDistrict', 'Category']).count().reset_index()\n",
    "Total.head()"
   ]
  },
  {
   "cell_type": "code",
   "execution_count": 76,
   "metadata": {
    "collapsed": false
   },
   "outputs": [],
   "source": [
    "Total.to_csv(os.path.join('C:\\ipython\\data_analysis\\d3\\sunnalilja.github.io','DataSF.csv'), index = True)"
   ]
  },
  {
   "cell_type": "code",
   "execution_count": null,
   "metadata": {
    "collapsed": false
   },
   "outputs": [],
   "source": []
  },
  {
   "cell_type": "code",
   "execution_count": 7,
   "metadata": {
    "collapsed": false
   },
   "outputs": [],
   "source": []
  },
  {
   "cell_type": "code",
   "execution_count": 24,
   "metadata": {
    "collapsed": false
   },
   "outputs": [],
   "source": []
  },
  {
   "cell_type": "code",
   "execution_count": null,
   "metadata": {
    "collapsed": false
   },
   "outputs": [],
   "source": []
  },
  {
   "cell_type": "code",
   "execution_count": null,
   "metadata": {
    "collapsed": true
   },
   "outputs": [],
   "source": []
  },
  {
   "cell_type": "code",
   "execution_count": 17,
   "metadata": {
    "collapsed": false
   },
   "outputs": [],
   "source": []
  },
  {
   "cell_type": "code",
   "execution_count": 23,
   "metadata": {
    "collapsed": false
   },
   "outputs": [],
   "source": []
  },
  {
   "cell_type": "code",
   "execution_count": null,
   "metadata": {
    "collapsed": false
   },
   "outputs": [],
   "source": []
  },
  {
   "cell_type": "code",
   "execution_count": null,
   "metadata": {
    "collapsed": true
   },
   "outputs": [],
   "source": []
  }
 ],
 "metadata": {
  "anaconda-cloud": {},
  "kernelspec": {
   "display_name": "Python [Root]",
   "language": "python",
   "name": "Python [Root]"
  },
  "language_info": {
   "codemirror_mode": {
    "name": "ipython",
    "version": 2
   },
   "file_extension": ".py",
   "mimetype": "text/x-python",
   "name": "python",
   "nbconvert_exporter": "python",
   "pygments_lexer": "ipython2",
   "version": "2.7.12"
  }
 },
 "nbformat": 4,
 "nbformat_minor": 0
}
